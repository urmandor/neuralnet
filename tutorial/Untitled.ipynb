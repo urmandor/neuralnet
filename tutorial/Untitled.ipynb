{
 "cells": [
  {
   "cell_type": "code",
   "execution_count": 5,
   "metadata": {},
   "outputs": [],
   "source": [
    "from NNReluSigmoid import NNReluSigmoid as NN\n",
    "from testcases.testCases_v4 import *"
   ]
  },
  {
   "cell_type": "code",
   "execution_count": 6,
   "metadata": {},
   "outputs": [],
   "source": [
    "network = NN()\n",
    "train_original_x, train_original_y, *test_data = network.loadData(\"./datasets/train_catvnoncat.h5\")"
   ]
  },
  {
   "cell_type": "code",
   "execution_count": 7,
   "metadata": {},
   "outputs": [
    {
     "name": "stdout",
     "output_type": "stream",
     "text": [
      "Number of training examples: 209\n",
      "Number of testing examples: None\n",
      "Each image is of size: (64, 64, 3)\n",
      "train_x_orig shape: (209, 64, 64, 3)\n",
      "train_y shape: (1, 209)\n",
      "test_x_orig shape: None\n",
      "test_y shape: None\n"
     ]
    }
   ],
   "source": [
    "network.exploreData()"
   ]
  },
  {
   "cell_type": "code",
   "execution_count": 8,
   "metadata": {},
   "outputs": [],
   "source": [
    "network.flattenData()"
   ]
  },
  {
   "cell_type": "code",
   "execution_count": 9,
   "metadata": {},
   "outputs": [],
   "source": [
    "network.normalizeData()"
   ]
  },
  {
   "cell_type": "code",
   "execution_count": 10,
   "metadata": {},
   "outputs": [],
   "source": [
    "network.setLayers([12288, 7, 1])"
   ]
  },
  {
   "cell_type": "code",
   "execution_count": 11,
   "metadata": {},
   "outputs": [],
   "source": [
    "network.setDefaultActivation()"
   ]
  },
  {
   "cell_type": "code",
   "execution_count": 12,
   "metadata": {},
   "outputs": [
    {
     "name": "stdout",
     "output_type": "stream",
     "text": [
      "Cost after 0 iterations : 0.693037537171328\n",
      "Cost after 100 iterations : 0.646018183543664\n",
      "Cost after 200 iterations : 0.6320725350743511\n",
      "Cost after 300 iterations : 0.601311119309345\n",
      "Cost after 400 iterations : 0.5597302734212684\n",
      "Cost after 500 iterations : 0.5159581219135347\n",
      "Cost after 600 iterations : 0.4705735831357794\n",
      "Cost after 700 iterations : 0.4055160469141765\n",
      "Cost after 800 iterations : 0.3881036296311776\n",
      "Cost after 900 iterations : 0.3726801132852724\n",
      "Cost after 1000 iterations : 0.3333055604250542\n",
      "Cost after 1100 iterations : 0.27861192223038506\n",
      "Cost after 1200 iterations : 0.23005685534738024\n",
      "Cost after 1300 iterations : 0.17855147452911171\n",
      "Cost after 1400 iterations : 0.2066460153917872\n",
      "Cost after 1500 iterations : 0.1301825281837122\n",
      "Cost after 1600 iterations : 0.12224032369986838\n",
      "Cost after 1700 iterations : 0.09667998904683203\n",
      "Cost after 1800 iterations : 0.08373994859542895\n",
      "Cost after 1900 iterations : 0.07047049373979228\n",
      "Cost after 2000 iterations : 0.06160893583187291\n",
      "Cost after 2100 iterations : 0.05432053869218418\n",
      "Cost after 2200 iterations : 0.04839642134221391\n",
      "Cost after 2300 iterations : 0.04348926022201202\n",
      "Cost after 2400 iterations : 0.03935747311867774\n"
     ]
    },
    {
     "data": {
      "image/png": "[encoded data removed]",
      "text/plain": [
       "<Figure size 432x288 with 1 Axes>"
      ]
     },
     "metadata": {},
     "output_type": "display_data"
    },
    {
     "data": {
      "text/plain": [
       "{'W1': array([[-0.00606377,  0.02600517, -0.01131115, ..., -0.0017999 ,\n",
       "          0.01213478, -0.01056834],\n",
       "        [ 0.0054644 ,  0.00646334, -0.00512015, ...,  0.01497185,\n",
       "          0.00087962,  0.01323529],\n",
       "        [-0.00456534,  0.01163914,  0.00273923, ..., -0.00700244,\n",
       "         -0.0021981 , -0.00727132],\n",
       "        ...,\n",
       "        [-0.01642811, -0.00232065,  0.01759283, ..., -0.00222091,\n",
       "         -0.00774344,  0.00122591],\n",
       "        [-0.00223921, -0.00831678, -0.01221517, ...,  0.00352035,\n",
       "         -0.01159469,  0.00496074],\n",
       "        [-0.01864264,  0.00618167, -0.00169904, ...,  0.01332727,\n",
       "          0.00298926, -0.00909201]]), 'b1': array([[ 0.01408997],\n",
       "        [-0.00028543],\n",
       "        [ 0.01074384],\n",
       "        [ 0.00028078],\n",
       "        [ 0.00264788],\n",
       "        [ 0.01950103],\n",
       "        [-0.002348  ]]), 'W2': array([[-1.45794274, -0.00345699, -0.58892699,  0.01437156, -0.49901706,\n",
       "          0.58020716, -0.5180725 ]]), 'b2': array([[0.03002825]])}"
      ]
     },
     "execution_count": 12,
     "metadata": {},
     "output_type": "execute_result"
    }
   ],
   "source": [
    "network.startTraining(network.trainX, network.trainY, numIterations=2500, printCost=True)"
   ]
  },
  {
   "cell_type": "markdown",
   "metadata": {},
   "source": [
    "## 7 - TESTS\n"
   ]
  },
  {
   "cell_type": "code",
   "execution_count": null,
   "metadata": {
    "scrolled": true
   },
   "outputs": [],
   "source": [
    "print(\"W1 = \" + str(params[\"W1\"]))\n",
    "print(\"b1 = \" + str(params[\"b1\"]))\n",
    "print(\"W2 = \" + str(params[\"W2\"]))\n",
    "print(\"b2 = \" + str(params[\"b2\"]))"
   ]
  },
  {
   "cell_type": "code",
   "execution_count": null,
   "metadata": {},
   "outputs": [],
   "source": [
    "A, W, b = linear_forward_test_case()\n",
    "Z = network.forwardLinear(A, W, b)\n",
    "print(\"Z = \" + str(Z))"
   ]
  },
  {
   "cell_type": "code",
   "execution_count": null,
   "metadata": {},
   "outputs": [],
   "source": [
    "X, parameters = L_model_forward_test_case_2hidden()\n",
    "AL, caches = network.forwardPropagation(X, parameters, activations=[(2,\"relu\"), (3, \"sigmoid\")])\n",
    "print(\"AL = \" + str(AL))\n",
    "print(\"Length of caches list = \" + str(len(caches)))"
   ]
  },
  {
   "cell_type": "code",
   "execution_count": null,
   "metadata": {},
   "outputs": [],
   "source": [
    "Y, AL = compute_cost_test_case()\n",
    "print(np.divide((np.dot(Y, np.log(AL).T) + np.dot((1-Y), np.log(1-AL).T)), -3))\n",
    "print(\"cost = \" + str(network.calculateCost(AL, Y)))"
   ]
  },
  {
   "cell_type": "code",
   "execution_count": null,
   "metadata": {},
   "outputs": [],
   "source": [
    "# Set up some test inputs\n",
    "dZ, linear_cache = linear_backward_test_case()\n",
    "A,W,b = linear_cache\n",
    "cache = (A, A, A, W, b)\n",
    "dA_prev, dW, db = network.backwardActivation(dZ, cache)\n",
    "print (\"dA_prev = \"+ str(dA_prev))\n",
    "print (\"dW = \" + str(dW))\n",
    "print (\"db = \" + str(db))"
   ]
  },
  {
   "cell_type": "code",
   "execution_count": null,
   "metadata": {},
   "outputs": [],
   "source": [
    "dAL, linear_activation_cache = linear_activation_backward_test_case()\n",
    "lin, act = linear_activation_cache\n",
    "# (lin, act) = cache\n",
    "A, W, b = lin\n",
    "Z = act\n",
    "network.backwardLinear(dAL, Z, \"sigmoid\")\n",
    "network.backwardLinear(dAL, Z, \"relu\")\n",
    "\n"
   ]
  },
  {
   "cell_type": "code",
   "execution_count": null,
   "metadata": {
    "scrolled": true
   },
   "outputs": [],
   "source": [
    "AL, Y_assess, caches = L_model_backward_test_case()\n",
    "cache1, cache2 = caches\n",
    "((A1, W1, b1), Z1) = cache1\n",
    "((A2, W2, b2), Z2) = cache2\n",
    "\n",
    "A_prev, A, Z, W, b = cache\n",
    "cache1 = (A1, A1, Z1, W1, b1)\n",
    "cache2 = (A2, A2, Z2, W2, b2)\n",
    "caches = [cache1, cache2]\n",
    "# caches[0]\n",
    "\n",
    "grads = network.backwardPropagation(AL, Y_assess, caches, activations=[(1,\"relu\"), (2, \"sigmoid\")])\n",
    "print_grads(grads)"
   ]
  },
  {
   "cell_type": "code",
   "execution_count": null,
   "metadata": {},
   "outputs": [],
   "source": [
    "parameters, grads = update_parameters_test_case()\n",
    "parameters = network.updateParams(parameters, grads, 0.1)\n",
    "\n",
    "print (\"W1 = \"+ str(parameters[\"W1\"]))\n",
    "print (\"b1 = \"+ str(parameters[\"b1\"]))\n",
    "print (\"W2 = \"+ str(parameters[\"W2\"]))\n",
    "print (\"b2 = \"+ str(parameters[\"b2\"]))"
   ]
  },
  {
   "cell_type": "code",
   "execution_count": null,
   "metadata": {},
   "outputs": [],
   "source": [
    "print(None!=None and [])"
   ]
  },
  {
   "cell_type": "code",
   "execution_count": null,
   "metadata": {},
   "outputs": [],
   "source": [
    "a = [1,2,3,0,4]\n",
    "a[-1<=0]"
   ]
  },
  {
   "cell_type": "code",
   "execution_count": null,
   "metadata": {},
   "outputs": [],
   "source": [
    "b = 5\n",
    "for i in range(1,b):\n",
    "    print(i)\n",
    "    \n",
    "for i in range(b):\n",
    "    print(i+1)"
   ]
  },
  {
   "cell_type": "code",
   "execution_count": null,
   "metadata": {},
   "outputs": [],
   "source": []
  }
 ],
 "metadata": {
  "kernelspec": {
   "display_name": "Python 3",
   "language": "python",
   "name": "python3"
  },
  "language_info": {
   "codemirror_mode": {
    "name": "ipython",
    "version": 3
   },
   "file_extension": ".py",
   "mimetype": "text/x-python",
   "name": "python",
   "nbconvert_exporter": "python",
   "pygments_lexer": "ipython3",
   "version": "3.6.5"
  }
 },
 "nbformat": 4,
 "nbformat_minor": 2
}
