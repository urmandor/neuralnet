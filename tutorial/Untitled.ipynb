{
 "cells": [
  {
   "cell_type": "code",
   "execution_count": 1,
   "metadata": {},
   "outputs": [
    {
     "name": "stderr",
     "output_type": "stream",
     "text": [
      "D:\\Anaconda3\\lib\\site-packages\\h5py\\__init__.py:36: FutureWarning: Conversion of the second argument of issubdtype from `float` to `np.floating` is deprecated. In future, it will be treated as `np.float64 == np.dtype(float).type`.\n",
      "  from ._conv import register_converters as _register_converters\n"
     ]
    }
   ],
   "source": [
    "from NNReluSigmoid import NNReluSigmoid as NN\n",
    "from testcases.testCases_v4 import *"
   ]
  },
  {
   "cell_type": "code",
   "execution_count": 2,
   "metadata": {},
   "outputs": [],
   "source": [
    "network = NN()\n",
    "train_original_x, train_original_y, *test_data = network.loadData(\"./datasets/train_catvnoncat.h5\")"
   ]
  },
  {
   "cell_type": "code",
   "execution_count": 3,
   "metadata": {},
   "outputs": [
    {
     "name": "stdout",
     "output_type": "stream",
     "text": [
      "Number of training examples: 209\n",
      "Number of testing examples: None\n",
      "Each image is of size: (64, 64, 3)\n",
      "train_x_orig shape: (209, 64, 64, 3)\n",
      "train_y shape: (1, 209)\n",
      "test_x_orig shape: None\n",
      "test_y shape: None\n"
     ]
    }
   ],
   "source": [
    "network.exploreData()"
   ]
  },
  {
   "cell_type": "code",
   "execution_count": 4,
   "metadata": {},
   "outputs": [],
   "source": [
    "network.flattenData()"
   ]
  },
  {
   "cell_type": "code",
   "execution_count": 5,
   "metadata": {},
   "outputs": [],
   "source": [
    "network.normalizeData()"
   ]
  },
  {
   "cell_type": "code",
   "execution_count": 6,
   "metadata": {},
   "outputs": [],
   "source": [
    "network.setLayers([12288, 20, 7, 5, 1])"
   ]
  },
  {
   "cell_type": "code",
   "execution_count": 7,
   "metadata": {},
   "outputs": [],
   "source": [
    "network.setDefaultActivation()"
   ]
  },
  {
   "cell_type": "code",
   "execution_count": 8,
   "metadata": {},
   "outputs": [
    {
     "name": "stdout",
     "output_type": "stream",
     "text": [
      "Cost after 0 iterations : 0.7717493284237686\n",
      "Cost after 100 iterations : 0.6726650835700182\n",
      "Cost after 200 iterations : 0.6495765256183719\n",
      "Cost after 300 iterations : 0.610020120418779\n",
      "Cost after 400 iterations : 0.5542517101685568\n",
      "Cost after 500 iterations : 0.507791140604111\n",
      "Cost after 600 iterations : 0.4483866907780338\n",
      "Cost after 700 iterations : 0.39004911191246755\n",
      "Cost after 800 iterations : 0.35211734011698786\n",
      "Cost after 900 iterations : 0.30210728044974183\n",
      "Cost after 1000 iterations : 0.2544084822816684\n",
      "Cost after 1100 iterations : 0.21512146498116275\n",
      "Cost after 1200 iterations : 0.19418205352556453\n",
      "Cost after 1300 iterations : 0.17033217583701515\n",
      "Cost after 1400 iterations : 0.1527209464922781\n",
      "Cost after 1500 iterations : 0.1371274112910016\n",
      "Cost after 1600 iterations : 0.12535111778879857\n",
      "Cost after 1700 iterations : 0.11526236208259444\n",
      "Cost after 1800 iterations : 0.10579820578608314\n",
      "Cost after 1900 iterations : 0.09846031767281013\n",
      "Cost after 2000 iterations : 0.09430677881642235\n",
      "Cost after 2100 iterations : 0.08591075343951403\n",
      "Cost after 2200 iterations : 0.08194748989734604\n",
      "Cost after 2300 iterations : 0.07654177594293902\n",
      "Cost after 2400 iterations : 0.0717848733441872\n"
     ]
    },
    {
     "data": {
      "image/png": "[encoded data removed]",
      "text/plain": [
       "<Figure size 432x288 with 1 Axes>"
      ]
     },
     "metadata": {},
     "output_type": "display_data"
    },
    {
     "data": {
      "text/plain": [
       "{'W1': array([[ 1.79814000e-02, -5.58299146e-03, -2.43497952e-03, ...,\n",
       "         -9.72655804e-03, -9.09123477e-03,  8.50567442e-03],\n",
       "        [ 1.26161529e-02,  1.22291936e-03, -8.32039309e-03, ...,\n",
       "          1.25933313e-02,  3.94210222e-04,  8.76722764e-03],\n",
       "        [ 2.11394623e-04, -6.27912273e-04,  1.02057260e-02, ...,\n",
       "          1.18071363e-03, -7.35782963e-03, -6.32409416e-03],\n",
       "        ...,\n",
       "        [ 1.40830136e-03, -1.37697164e-03,  1.63992605e-02, ...,\n",
       "         -8.46448721e-03, -7.61579753e-03, -1.49157278e-03],\n",
       "        [-1.16936019e-03, -5.27081187e-03, -9.57508423e-03, ...,\n",
       "          1.95841999e-02, -5.25351382e-03,  5.15200653e-05],\n",
       "        [-1.68693001e-02, -6.83206857e-03,  8.00105545e-03, ...,\n",
       "          1.58503735e-02,  1.27872853e-02, -3.04616891e-03]]),\n",
       " 'b1': array([[ 0.00027448],\n",
       "        [ 0.01080933],\n",
       "        [ 0.00765562],\n",
       "        [ 0.00082742],\n",
       "        [ 0.00518625],\n",
       "        [ 0.0013693 ],\n",
       "        [-0.00116134],\n",
       "        [ 0.00296044],\n",
       "        [ 0.00481465],\n",
       "        [ 0.00159195],\n",
       "        [-0.00884171],\n",
       "        [ 0.00555488],\n",
       "        [ 0.00020021],\n",
       "        [ 0.00298234],\n",
       "        [ 0.00908854],\n",
       "        [-0.00422718],\n",
       "        [ 0.00059272],\n",
       "        [-0.00051232],\n",
       "        [ 0.00296647],\n",
       "        [-0.00654603]]),\n",
       " 'W2': array([[ 0.20210923, -0.30864524, -0.37762059, -0.0402563 ,  0.05907533,\n",
       "          0.12334556,  0.30804725,  0.04712016,  0.05298922,  0.13473288,\n",
       "          0.2158047 , -0.63429595, -0.15608101,  0.10190547, -0.15058439,\n",
       "          0.05312198,  0.11425713,  0.42069796,  0.10855117, -0.21873533],\n",
       "        [ 0.358684  , -0.13376549,  0.37174335,  0.24771655, -0.10259669,\n",
       "         -0.34762069, -0.25517634,  0.48282841, -0.05818562,  0.53067605,\n",
       "         -0.04507799,  0.08743062,  0.03224002,  0.44962237,  0.18087117,\n",
       "         -0.63845688, -0.17884595,  0.17793353,  0.14827727, -0.07619002],\n",
       "        [ 0.29665226,  0.24894806, -0.06519861,  0.01028417,  0.34259037,\n",
       "         -0.18194477, -0.04853913, -0.05135858, -0.14959913, -0.02306066,\n",
       "         -0.63786787,  0.07536887,  0.07875124,  0.3650104 ,  0.04776497,\n",
       "         -0.13823463, -0.25356859,  0.13594693,  0.41184207, -0.26165851],\n",
       "        [ 0.1446199 , -0.25617193,  0.40521315,  0.02052482, -0.06344749,\n",
       "         -0.03986914, -0.16521566, -0.15514855,  0.00793589, -0.12904132,\n",
       "          0.38217202, -0.36147939,  0.00074085, -0.37606248, -0.11529239,\n",
       "          0.15587953,  0.32055519,  0.18812735, -0.04968289, -0.14056598],\n",
       "        [-0.15963924,  0.50430452, -0.6136481 ,  0.177146  , -0.31105647,\n",
       "          0.04972436, -0.27674827,  0.28783046,  0.5165697 , -0.17690736,\n",
       "         -0.17689354, -0.07595522,  0.00770317, -0.29186354,  0.08096732,\n",
       "         -0.09250547,  0.13229768,  0.07822502, -0.14710789, -0.43729047],\n",
       "        [-0.21518548,  0.14087853,  0.19500124,  0.21383417,  0.20265696,\n",
       "          0.25868658, -0.03578471, -0.27207886,  0.36924124,  0.10557491,\n",
       "         -0.33546937,  0.07290605,  0.0414407 , -0.32586643,  0.20704283,\n",
       "         -0.39216169, -0.08850618, -0.30370136,  0.13268378, -0.46770255],\n",
       "        [ 0.2068286 , -0.23486035, -0.40607913,  0.05943842,  0.09167128,\n",
       "         -0.32774366, -0.06910773, -0.61342385,  0.19020973, -0.1429289 ,\n",
       "          0.00532631, -0.13207107,  0.09342307, -0.02062996,  0.0929101 ,\n",
       "          0.3844939 ,  0.3312005 , -0.01765661,  0.09299491, -0.11293752]]),\n",
       " 'b2': array([[-0.00088887],\n",
       "        [ 0.02555356],\n",
       "        [ 0.01623278],\n",
       "        [-0.00582595],\n",
       "        [ 0.01485151],\n",
       "        [ 0.02306406],\n",
       "        [-0.00078565]]),\n",
       " 'W3': array([[ 0.20939786,  0.19848873,  0.77625062, -1.07261821, -0.65554221,\n",
       "         -0.22655421, -0.15696056],\n",
       "        [-0.57997618,  0.31464082, -0.03978691, -0.1374453 ,  0.25579591,\n",
       "          0.76214553, -0.34516357],\n",
       "        [ 0.15990295,  0.51792021,  0.13770228,  0.33309064, -0.00668626,\n",
       "          0.86092951, -0.01010452],\n",
       "        [ 0.52908282,  0.95968575,  1.2133448 , -0.0471065 ,  0.62429405,\n",
       "          0.16276555, -0.01423562],\n",
       "        [-0.96753783, -0.30703759,  0.53456699, -0.18815087, -0.39050089,\n",
       "          0.20078626, -0.58863944]]),\n",
       " 'b3': array([[ 0.94072175],\n",
       "        [-0.00869068],\n",
       "        [-0.0116785 ],\n",
       "        [-0.05719156],\n",
       "        [-0.0062676 ]]),\n",
       " 'W4': array([[-0.91309263,  0.21984798,  0.79265769,  1.48327966,  0.08491129]]),\n",
       " 'b4': array([[-1.74166898]])}"
      ]
     },
     "execution_count": 8,
     "metadata": {},
     "output_type": "execute_result"
    }
   ],
   "source": [
    "network.startTraining(network.trainX, network.trainY, numIterations=2500, printCost=True)"
   ]
  },
  {
   "cell_type": "markdown",
   "metadata": {},
   "source": [
    "## 7 - TESTS\n"
   ]
  },
  {
   "cell_type": "code",
   "execution_count": null,
   "metadata": {
    "scrolled": true
   },
   "outputs": [],
   "source": [
    "parameters = network.initializeParams([5,4,3])\n",
    "print(\"W1 = \" + str(parameters[\"W1\"]))\n",
    "print(\"b1 = \" + str(parameters[\"b1\"]))\n",
    "print(\"W2 = \" + str(parameters[\"W2\"]))\n",
    "print(\"b2 = \" + str(parameters[\"b2\"]))"
   ]
  },
  {
   "cell_type": "code",
   "execution_count": null,
   "metadata": {},
   "outputs": [],
   "source": [
    "A, W, b = linear_forward_test_case()\n",
    "Z = network.forwardLinear(A, W, b)\n",
    "print(\"Z = \" + str(Z))"
   ]
  },
  {
   "cell_type": "code",
   "execution_count": null,
   "metadata": {},
   "outputs": [],
   "source": [
    "X, parameters = L_model_forward_test_case_2hidden()\n",
    "AL, caches = network.forwardPropagation(X, parameters, activations=[(2,\"relu\"), (3, \"sigmoid\")])\n",
    "print(\"AL = \" + str(AL))\n",
    "print(\"Length of caches list = \" + str(len(caches)))"
   ]
  },
  {
   "cell_type": "code",
   "execution_count": null,
   "metadata": {},
   "outputs": [],
   "source": [
    "Y, AL = compute_cost_test_case()\n",
    "print(np.divide((np.dot(Y, np.log(AL).T) + np.dot((1-Y), np.log(1-AL).T)), -3))\n",
    "print(\"cost = \" + str(network.calculateCost(AL, Y)))"
   ]
  },
  {
   "cell_type": "code",
   "execution_count": null,
   "metadata": {},
   "outputs": [],
   "source": [
    "# Set up some test inputs\n",
    "dZ, linear_cache = linear_backward_test_case()\n",
    "A,W,b = linear_cache\n",
    "cache = (A, A, A, W, b)\n",
    "dA_prev, dW, db = network.backwardActivation(dZ, cache)\n",
    "print (\"dA_prev = \"+ str(dA_prev))\n",
    "print (\"dW = \" + str(dW))\n",
    "print (\"db = \" + str(db))"
   ]
  },
  {
   "cell_type": "code",
   "execution_count": null,
   "metadata": {},
   "outputs": [],
   "source": [
    "dAL, linear_activation_cache = linear_activation_backward_test_case()\n",
    "lin, act = linear_activation_cache\n",
    "# (lin, act) = cache\n",
    "A, W, b = lin\n",
    "Z = act\n",
    "network.backwardLinear(dAL, Z, \"sigmoid\")\n",
    "network.backwardLinear(dAL, Z, \"relu\")\n",
    "\n"
   ]
  },
  {
   "cell_type": "code",
   "execution_count": null,
   "metadata": {
    "scrolled": true
   },
   "outputs": [],
   "source": [
    "AL, Y_assess, caches = L_model_backward_test_case()\n",
    "cache1, cache2 = caches\n",
    "((A1, W1, b1), Z1) = cache1\n",
    "((A2, W2, b2), Z2) = cache2\n",
    "\n",
    "A_prev, A, Z, W, b = cache\n",
    "cache1 = (A1, A1, Z1, W1, b1)\n",
    "cache2 = (A2, A2, Z2, W2, b2)\n",
    "caches = [cache1, cache2]\n",
    "# caches[0]\n",
    "\n",
    "grads = network.backwardPropagation(AL, Y_assess, caches, activations=[(1,\"relu\"), (2, \"sigmoid\")])\n",
    "print_grads(grads)"
   ]
  },
  {
   "cell_type": "code",
   "execution_count": null,
   "metadata": {},
   "outputs": [],
   "source": [
    "parameters, grads = update_parameters_test_case()\n",
    "parameters = network.updateParams(parameters, grads, 0.1)\n",
    "\n",
    "print (\"W1 = \"+ str(parameters[\"W1\"]))\n",
    "print (\"b1 = \"+ str(parameters[\"b1\"]))\n",
    "print (\"W2 = \"+ str(parameters[\"W2\"]))\n",
    "print (\"b2 = \"+ str(parameters[\"b2\"]))"
   ]
  },
  {
   "cell_type": "code",
   "execution_count": null,
   "metadata": {},
   "outputs": [],
   "source": [
    "print(None!=None and [])"
   ]
  },
  {
   "cell_type": "code",
   "execution_count": null,
   "metadata": {},
   "outputs": [],
   "source": [
    "a = [1,2,3,0,4]\n",
    "a[-1<=0]"
   ]
  },
  {
   "cell_type": "code",
   "execution_count": null,
   "metadata": {},
   "outputs": [],
   "source": [
    "b = 5\n",
    "for i in range(1,b):\n",
    "    print(i)\n",
    "    \n",
    "for i in range(b):\n",
    "    print(i+1)"
   ]
  },
  {
   "cell_type": "code",
   "execution_count": null,
   "metadata": {},
   "outputs": [],
   "source": []
  }
 ],
 "metadata": {
  "kernelspec": {
   "display_name": "Python 3",
   "language": "python",
   "name": "python3"
  },
  "language_info": {
   "codemirror_mode": {
    "name": "ipython",
    "version": 3
   },
   "file_extension": ".py",
   "mimetype": "text/x-python",
   "name": "python",
   "nbconvert_exporter": "python",
   "pygments_lexer": "ipython3",
   "version": "3.6.5"
  }
 },
 "nbformat": 4,
 "nbformat_minor": 2
}
